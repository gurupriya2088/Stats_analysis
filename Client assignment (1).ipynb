{
 "cells": [
  {
   "cell_type": "raw",
   "metadata": {},
   "source": [
    "\n",
    "client_stats_sample_0225part1.csv and client_stats_sample_0225part2.csv are taken as input file\n",
    "Problem statement1\n",
    "1.Spread of rx ,tx and rssi_percs_25 is calculated.\n",
    "2.Histgram for average of tx and rx weighted phy rate between -85 and -65 db in 1 db steps is calculated.\n",
    "Problem statement2\n",
    "1. % of devices connected to 2.4 G and 5 G.\n",
    "2. % of devices connected to the condition ."
   ]
  },
  {
   "cell_type": "code",
   "execution_count": 49,
   "metadata": {},
   "outputs": [],
   "source": [
    "# Importing the necessary packages\n",
    "from pyspark import SparkContext, SparkConf\n",
    "from pyspark.sql import SQLContext, SparkSession\n",
    "from pyspark.sql.functions import count, col\n",
    "from pyspark.sql.functions import col, skewness, kurtosis\n",
    "\n",
    "import seaborn as sns\n",
    "import matplotlib.pyplot as plt\n",
    "import pandas as pd\n",
    "import numpy as np\n",
    "import pyspark.sql.functions as func"
   ]
  },
  {
   "cell_type": "code",
   "execution_count": 2,
   "metadata": {},
   "outputs": [],
   "source": [
    "# Create a Spark context\n",
    "spark = SparkSession.builder.getOrCreate()\n",
    "sqlContext = SQLContext(spark)"
   ]
  },
  {
   "cell_type": "markdown",
   "metadata": {},
   "source": [
    "# --------------------------PROBLEM STATEMENT 1 -----------------------------------------------"
   ]
  },
  {
   "cell_type": "code",
   "execution_count": 3,
   "metadata": {},
   "outputs": [],
   "source": [
    "## Loading the data form part1 client sample amd reading it to a dataframe\n",
    "df = sqlContext.read.format(\"csv\").option(\"header\",\"true\").load('client_stats_sample_0225part1.csv')\n"
   ]
  },
  {
   "cell_type": "code",
   "execution_count": 4,
   "metadata": {},
   "outputs": [
    {
     "data": {
      "text/plain": [
       "350000"
      ]
     },
     "execution_count": 4,
     "metadata": {},
     "output_type": "execute_result"
    }
   ],
   "source": [
    "df.count()"
   ]
  },
  {
   "cell_type": "code",
   "execution_count": 5,
   "metadata": {},
   "outputs": [
    {
     "name": "stdout",
     "output_type": "stream",
     "text": [
      "root\n",
      " |-- _c0: string (nullable = true)\n",
      " |-- location_id: string (nullable = true)\n",
      " |-- client_mac: string (nullable = true)\n",
      " |-- freq_band: string (nullable = true)\n",
      " |-- mac_address: string (nullable = true)\n",
      " |-- country: string (nullable = true)\n",
      " |-- vendor_name: string (nullable = true)\n",
      " |-- rssi_percs_25: string (nullable = true)\n",
      " |-- rssi_percs_75: string (nullable = true)\n",
      " |-- isp: string (nullable = true)\n",
      " |-- total_bytes_tx: string (nullable = true)\n",
      " |-- total_bytes_rx: string (nullable = true)\n",
      " |-- ts: string (nullable = true)\n",
      " |-- txWeightedPhyRate: string (nullable = true)\n",
      " |-- rxWeightedPhyRate: string (nullable = true)\n",
      " |-- idtype: string (nullable = true)\n",
      " |-- is_static: string (nullable = true)\n",
      " |-- weighted_prr_tx: string (nullable = true)\n",
      " |-- weighted_prr_rx: string (nullable = true)\n",
      " |-- num_samples: string (nullable = true)\n",
      " |-- is_connected_to_pod: string (nullable = true)\n",
      " |-- pod_serial: string (nullable = true)\n",
      " |-- control_group: string (nullable = true)\n",
      " |-- bandCap2G: string (nullable = true)\n",
      " |-- bandCap5G: string (nullable = true)\n",
      " |-- maxMcs: string (nullable = true)\n",
      " |-- maxNss: string (nullable = true)\n",
      " |-- maxChWidth: string (nullable = true)\n",
      " |-- phyMode: string (nullable = true)\n",
      " |-- isBTMSupported: string (nullable = true)\n",
      "\n"
     ]
    }
   ],
   "source": [
    "df.printSchema()"
   ]
  },
  {
   "cell_type": "code",
   "execution_count": 6,
   "metadata": {},
   "outputs": [
    {
     "name": "stdout",
     "output_type": "stream",
     "text": [
      "+-------------+-----------------+-----------------+\n",
      "|rssi_percs_25|rxWeightedPhyRate|txWeightedPhyRate|\n",
      "+-------------+-----------------+-----------------+\n",
      "|        -64.0|         85.17462|         88.45363|\n",
      "|        -64.0|       116.114296|        125.81183|\n",
      "|        -64.0|        97.602585|       113.710815|\n",
      "|        -64.0|         93.59775|         98.49928|\n",
      "|        -60.0|        64.956215|        50.702835|\n",
      "|        -61.0|         63.83611|        50.534744|\n",
      "|        -61.0|        61.104904|        49.119404|\n",
      "|        -59.0|           64.735|        54.749767|\n",
      "|        -58.0|         72.22222|         72.22222|\n",
      "|        -57.0|         57.91453|        72.085495|\n",
      "|        -58.0|         72.22222|         72.22221|\n",
      "|        -58.0|         72.22222|         72.22221|\n",
      "|        -47.0|         67.61316|         72.22222|\n",
      "|        -43.0|        36.386463|         72.22207|\n",
      "|        -43.0|        51.480503|         72.22222|\n",
      "|        -45.0|         67.04335|         72.22222|\n",
      "|        -63.0|        285.23965|        509.20633|\n",
      "|        -71.0|        310.35004|         369.6146|\n",
      "|        -67.0|        329.72806|         340.8212|\n",
      "|        -61.0|        415.47208|        437.40192|\n",
      "+-------------+-----------------+-----------------+\n",
      "only showing top 20 rows\n",
      "\n"
     ]
    }
   ],
   "source": [
    "#Selecting required columns for analysis\n",
    "df_main = df.select(\"rssi_percs_25\", 'rxWeightedPhyRate', 'txWeightedPhyRate')\n",
    "df_main.show()"
   ]
  },
  {
   "cell_type": "code",
   "execution_count": 7,
   "metadata": {},
   "outputs": [
    {
     "data": {
      "text/plain": [
       "{'rssi_percs_25': 367, 'rxWeightedPhyRate': 4686, 'txWeightedPhyRate': 12342}"
      ]
     },
     "execution_count": 7,
     "metadata": {},
     "output_type": "execute_result"
    }
   ],
   "source": [
    "#Null value in selected features\n",
    "null_value_counts = {i:df_main.filter(df_main[i].isNull()).count() for i in df_main.columns}\n",
    "null_value_counts"
   ]
  },
  {
   "cell_type": "code",
   "execution_count": 8,
   "metadata": {},
   "outputs": [
    {
     "data": {
      "text/plain": [
       "DataFrame[rssi_percs_25: string, rxWeightedPhyRate: string, txWeightedPhyRate: string]"
      ]
     },
     "execution_count": 8,
     "metadata": {},
     "output_type": "execute_result"
    }
   ],
   "source": [
    "#Dropping the null values in selected features\n",
    "df_main.dropna(how='any')"
   ]
  },
  {
   "cell_type": "markdown",
   "metadata": {},
   "source": [
    "# Spread of rx ,tx and rssi_percs_25"
   ]
  },
  {
   "cell_type": "code",
   "execution_count": 9,
   "metadata": {},
   "outputs": [],
   "source": [
    "\n",
    "pdf = df_main.toPandas()"
   ]
  },
  {
   "cell_type": "code",
   "execution_count": 10,
   "metadata": {},
   "outputs": [],
   "source": [
    "# convert values to numeric \n",
    "cols = pdf.columns\n",
    "pdf[cols] = pdf[cols].apply(pd.to_numeric, errors='coerce', axis=1)"
   ]
  },
  {
   "cell_type": "code",
   "execution_count": 37,
   "metadata": {},
   "outputs": [
    {
     "data": {
      "image/png": "[encoded data removed]",
      "text/plain": [
       "<Figure size 432x288 with 1 Axes>"
      ]
     },
     "metadata": {
      "needs_background": "light"
     },
     "output_type": "display_data"
    }
   ],
   "source": [
    "# plot for histgram for rxWeightedPhyRate\n",
    "plt.title(\"Distribution of rxWeightedPhyRate\")\n",
    "sns.histplot(pdf['rxWeightedPhyRate'],color=\"red\")\n",
    "plt.show()"
   ]
  },
  {
   "cell_type": "code",
   "execution_count": 43,
   "metadata": {},
   "outputs": [
    {
     "data": {
      "image/png": "[encoded data removed]",
      "text/plain": [
       "<Figure size 432x288 with 1 Axes>"
      ]
     },
     "metadata": {
      "needs_background": "light"
     },
     "output_type": "display_data"
    }
   ],
   "source": [
    "# plot for histgram for rxWeightedPhyRate\n",
    "plt.title(\"Distribution of txWeightedPhyRate\")\n",
    "sns.histplot(pdf['txWeightedPhyRate'],color=\"red\")\n",
    "plt.show()"
   ]
  },
  {
   "cell_type": "code",
   "execution_count": 39,
   "metadata": {},
   "outputs": [
    {
     "data": {
      "image/png": "[encoded data removed]",
      "text/plain": [
       "<Figure size 432x288 with 1 Axes>"
      ]
     },
     "metadata": {
      "needs_background": "light"
     },
     "output_type": "display_data"
    }
   ],
   "source": [
    "# plot for histgram for rxWeightedPhyRate\n",
    "plt.title(\"Distribution of rssi_percs_25\")\n",
    "sns.histplot(pdf['rssi_percs_25'],color=\"red\")\n",
    "plt.show()"
   ]
  },
  {
   "cell_type": "code",
   "execution_count": 14,
   "metadata": {},
   "outputs": [],
   "source": [
    "# Create a new dataframe with the given condition\n",
    "new_df = (pdf[pdf['rssi_percs_25'].between(-85, -65, inclusive=True)]).\\\n",
    "        groupby('rssi_percs_25')['rxWeightedPhyRate', 'txWeightedPhyRate', 'rssi_percs_25'].\\\n",
    "        mean()"
   ]
  },
  {
   "cell_type": "code",
   "execution_count": 15,
   "metadata": {},
   "outputs": [
    {
     "data": {
      "text/plain": [
       "(21, 3)"
      ]
     },
     "execution_count": 15,
     "metadata": {},
     "output_type": "execute_result"
    }
   ],
   "source": [
    "new_df.shape"
   ]
  },
  {
   "cell_type": "code",
   "execution_count": 16,
   "metadata": {},
   "outputs": [
    {
     "data": {
      "text/html": [
       "<div>\n",
       "<style scoped>\n",
       "    .dataframe tbody tr th:only-of-type {\n",
       "        vertical-align: middle;\n",
       "    }\n",
       "\n",
       "    .dataframe tbody tr th {\n",
       "        vertical-align: top;\n",
       "    }\n",
       "\n",
       "    .dataframe thead th {\n",
       "        text-align: right;\n",
       "    }\n",
       "</style>\n",
       "<table border=\"1\" class=\"dataframe\">\n",
       "  <thead>\n",
       "    <tr style=\"text-align: right;\">\n",
       "      <th></th>\n",
       "      <th>rxWeightedPhyRate</th>\n",
       "      <th>txWeightedPhyRate</th>\n",
       "      <th>rssi_percs_25</th>\n",
       "    </tr>\n",
       "    <tr>\n",
       "      <th>rssi_percs_25</th>\n",
       "      <th></th>\n",
       "      <th></th>\n",
       "      <th></th>\n",
       "    </tr>\n",
       "  </thead>\n",
       "  <tbody>\n",
       "    <tr>\n",
       "      <th>-85.0</th>\n",
       "      <td>20.423385</td>\n",
       "      <td>41.451343</td>\n",
       "      <td>-85.0</td>\n",
       "    </tr>\n",
       "    <tr>\n",
       "      <th>-84.0</th>\n",
       "      <td>22.307510</td>\n",
       "      <td>44.770926</td>\n",
       "      <td>-84.0</td>\n",
       "    </tr>\n",
       "    <tr>\n",
       "      <th>-83.0</th>\n",
       "      <td>30.096211</td>\n",
       "      <td>61.622073</td>\n",
       "      <td>-83.0</td>\n",
       "    </tr>\n",
       "    <tr>\n",
       "      <th>-82.0</th>\n",
       "      <td>36.817320</td>\n",
       "      <td>77.250330</td>\n",
       "      <td>-82.0</td>\n",
       "    </tr>\n",
       "    <tr>\n",
       "      <th>-81.0</th>\n",
       "      <td>45.578283</td>\n",
       "      <td>100.689131</td>\n",
       "      <td>-81.0</td>\n",
       "    </tr>\n",
       "    <tr>\n",
       "      <th>-80.0</th>\n",
       "      <td>50.545181</td>\n",
       "      <td>97.429977</td>\n",
       "      <td>-80.0</td>\n",
       "    </tr>\n",
       "    <tr>\n",
       "      <th>-79.0</th>\n",
       "      <td>55.060912</td>\n",
       "      <td>100.335192</td>\n",
       "      <td>-79.0</td>\n",
       "    </tr>\n",
       "    <tr>\n",
       "      <th>-78.0</th>\n",
       "      <td>61.192598</td>\n",
       "      <td>102.696797</td>\n",
       "      <td>-78.0</td>\n",
       "    </tr>\n",
       "    <tr>\n",
       "      <th>-77.0</th>\n",
       "      <td>68.631257</td>\n",
       "      <td>107.988843</td>\n",
       "      <td>-77.0</td>\n",
       "    </tr>\n",
       "    <tr>\n",
       "      <th>-76.0</th>\n",
       "      <td>75.996932</td>\n",
       "      <td>117.996827</td>\n",
       "      <td>-76.0</td>\n",
       "    </tr>\n",
       "    <tr>\n",
       "      <th>-75.0</th>\n",
       "      <td>82.174664</td>\n",
       "      <td>123.905343</td>\n",
       "      <td>-75.0</td>\n",
       "    </tr>\n",
       "    <tr>\n",
       "      <th>-74.0</th>\n",
       "      <td>89.862053</td>\n",
       "      <td>128.227931</td>\n",
       "      <td>-74.0</td>\n",
       "    </tr>\n",
       "    <tr>\n",
       "      <th>-73.0</th>\n",
       "      <td>94.269287</td>\n",
       "      <td>133.563770</td>\n",
       "      <td>-73.0</td>\n",
       "    </tr>\n",
       "    <tr>\n",
       "      <th>-72.0</th>\n",
       "      <td>97.334686</td>\n",
       "      <td>137.249995</td>\n",
       "      <td>-72.0</td>\n",
       "    </tr>\n",
       "    <tr>\n",
       "      <th>-71.0</th>\n",
       "      <td>106.040794</td>\n",
       "      <td>143.194442</td>\n",
       "      <td>-71.0</td>\n",
       "    </tr>\n",
       "    <tr>\n",
       "      <th>-70.0</th>\n",
       "      <td>110.866374</td>\n",
       "      <td>148.047591</td>\n",
       "      <td>-70.0</td>\n",
       "    </tr>\n",
       "    <tr>\n",
       "      <th>-69.0</th>\n",
       "      <td>120.877533</td>\n",
       "      <td>153.104378</td>\n",
       "      <td>-69.0</td>\n",
       "    </tr>\n",
       "    <tr>\n",
       "      <th>-68.0</th>\n",
       "      <td>132.209100</td>\n",
       "      <td>160.333002</td>\n",
       "      <td>-68.0</td>\n",
       "    </tr>\n",
       "    <tr>\n",
       "      <th>-67.0</th>\n",
       "      <td>149.403166</td>\n",
       "      <td>175.333389</td>\n",
       "      <td>-67.0</td>\n",
       "    </tr>\n",
       "    <tr>\n",
       "      <th>-66.0</th>\n",
       "      <td>175.661887</td>\n",
       "      <td>201.995076</td>\n",
       "      <td>-66.0</td>\n",
       "    </tr>\n",
       "    <tr>\n",
       "      <th>-65.0</th>\n",
       "      <td>197.015666</td>\n",
       "      <td>220.881819</td>\n",
       "      <td>-65.0</td>\n",
       "    </tr>\n",
       "  </tbody>\n",
       "</table>\n",
       "</div>"
      ],
      "text/plain": [
       "               rxWeightedPhyRate  txWeightedPhyRate  rssi_percs_25\n",
       "rssi_percs_25                                                     \n",
       "-85.0                  20.423385          41.451343          -85.0\n",
       "-84.0                  22.307510          44.770926          -84.0\n",
       "-83.0                  30.096211          61.622073          -83.0\n",
       "-82.0                  36.817320          77.250330          -82.0\n",
       "-81.0                  45.578283         100.689131          -81.0\n",
       "-80.0                  50.545181          97.429977          -80.0\n",
       "-79.0                  55.060912         100.335192          -79.0\n",
       "-78.0                  61.192598         102.696797          -78.0\n",
       "-77.0                  68.631257         107.988843          -77.0\n",
       "-76.0                  75.996932         117.996827          -76.0\n",
       "-75.0                  82.174664         123.905343          -75.0\n",
       "-74.0                  89.862053         128.227931          -74.0\n",
       "-73.0                  94.269287         133.563770          -73.0\n",
       "-72.0                  97.334686         137.249995          -72.0\n",
       "-71.0                 106.040794         143.194442          -71.0\n",
       "-70.0                 110.866374         148.047591          -70.0\n",
       "-69.0                 120.877533         153.104378          -69.0\n",
       "-68.0                 132.209100         160.333002          -68.0\n",
       "-67.0                 149.403166         175.333389          -67.0\n",
       "-66.0                 175.661887         201.995076          -66.0\n",
       "-65.0                 197.015666         220.881819          -65.0"
      ]
     },
     "execution_count": 16,
     "metadata": {},
     "output_type": "execute_result"
    }
   ],
   "source": [
    "# print the complete dataframe \n",
    "new_df.head(30)"
   ]
  },
  {
   "cell_type": "markdown",
   "metadata": {},
   "source": [
    "# Histgram for average of tx and rx weighted phy rate between -85 and -65 db in 1 db steps"
   ]
  },
  {
   "cell_type": "code",
   "execution_count": 17,
   "metadata": {},
   "outputs": [
    {
     "name": "stderr",
     "output_type": "stream",
     "text": [
      "/opt/conda/lib/python3.7/site-packages/seaborn/_decorators.py:43: FutureWarning: Pass the following variables as keyword args: x, y. From version 0.12, the only valid positional argument will be `data`, and passing other arguments without an explicit keyword will result in an error or misinterpretation.\n",
      "  FutureWarning\n"
     ]
    },
    {
     "data": {
      "image/png": "[encoded data removed]",
      "text/plain": [
       "<Figure size 720x360 with 1 Axes>"
      ]
     },
     "metadata": {
      "needs_background": "light"
     },
     "output_type": "display_data"
    }
   ],
   "source": [
    "x = new_df['rssi_percs_25'].values.tolist()\n",
    "y = new_df['rxWeightedPhyRate'].values.tolist()\n",
    "\n",
    "# Histogram plot for rxWeightedPhyRate\n",
    "plt.figure(figsize=(10, 5))\n",
    "plt.title(\"Distribution of rxWeightedPhyRate over rssi_percs_25\")\n",
    "sns.barplot(x, y,ci=None,palette=[\"C0\",\"C1\",\"C3\",\"C4\",\"C5\",\"C6\",\"C7\",\"C8\",\"C9\",\"C10\",\"k\"])\n",
    "plt.show()"
   ]
  },
  {
   "cell_type": "code",
   "execution_count": 18,
   "metadata": {},
   "outputs": [
    {
     "name": "stderr",
     "output_type": "stream",
     "text": [
      "/opt/conda/lib/python3.7/site-packages/seaborn/_decorators.py:43: FutureWarning: Pass the following variables as keyword args: x, y. From version 0.12, the only valid positional argument will be `data`, and passing other arguments without an explicit keyword will result in an error or misinterpretation.\n",
      "  FutureWarning\n"
     ]
    },
    {
     "data": {
      "image/png": "[encoded data removed]",
      "text/plain": [
       "<Figure size 720x360 with 1 Axes>"
      ]
     },
     "metadata": {
      "needs_background": "light"
     },
     "output_type": "display_data"
    }
   ],
   "source": [
    "x = new_df['rssi_percs_25'].values.tolist()\n",
    "y = new_df['txWeightedPhyRate'].values.tolist()\n",
    "\n",
    "# Histogram plot for txWeightedPhyRate\n",
    "plt.figure(figsize=(10, 5))\n",
    "plt.title(\"Distribution of txWeightedPhyRate over rssi_percs_25\")\n",
    "sns.barplot(x, y,ci=None,palette=[\"C0\",\"C1\",\"C3\",\"C4\",\"C5\",\"C6\",\"C7\",\"C8\",\"C9\",\"C10\",\"k\"])\n",
    "plt.show()"
   ]
  },
  {
   "cell_type": "code",
   "execution_count": 42,
   "metadata": {},
   "outputs": [
    {
     "data": {
      "image/png": "[encoded data removed]",
      "text/plain": [
       "<Figure size 720x432 with 1 Axes>"
      ]
     },
     "metadata": {
      "needs_background": "light"
     },
     "output_type": "display_data"
    }
   ],
   "source": [
    "plt.figure(figsize=(10, 6))\n",
    "ax = plt.subplot(111)\n",
    "width = 0.4\n",
    "ax.bar(new_df['rssi_percs_25']-width,new_df['txWeightedPhyRate'],width,color='r',label='txWeightedPhyRate')\n",
    "ax.bar(new_df['rssi_percs_25'],new_df['rxWeightedPhyRate'],width,color='b',label='rxWeightedPhyRate')\n",
    "ax.legend()\n",
    "plt.xlabel('rssi_percs_25')\n",
    "plt.xticks(np.arange(-85,-64,1))\n",
    "plt.ylabel('tx & rx WeightedPhyRates')\n",
    "plt.show()"
   ]
  },
  {
   "cell_type": "code",
   "execution_count": 47,
   "metadata": {},
   "outputs": [
    {
     "data": {
      "text/plain": [
       "array([[<matplotlib.axes._subplots.AxesSubplot object at 0x7ff274550278>]],\n",
       "      dtype=object)"
      ]
     },
     "execution_count": 47,
     "metadata": {},
     "output_type": "execute_result"
    },
    {
     "data": {
      "image/png": "[encoded data removed]",
      "text/plain": [
       "<Figure size 432x288 with 1 Axes>"
      ]
     },
     "metadata": {
      "needs_background": "light"
     },
     "output_type": "display_data"
    }
   ],
   "source": [
    "#rssi_percs_25 in histogram\n",
    "new_df.hist('rssi_percs_25',bins=10,color=\"red\")"
   ]
  },
  {
   "cell_type": "code",
   "execution_count": 46,
   "metadata": {},
   "outputs": [
    {
     "data": {
      "text/plain": [
       "array([[<matplotlib.axes._subplots.AxesSubplot object at 0x7ff2742df7b8>]],\n",
       "      dtype=object)"
      ]
     },
     "execution_count": 46,
     "metadata": {},
     "output_type": "execute_result"
    },
    {
     "data": {
      "image/png": "[encoded data removed]",
      "text/plain": [
       "<Figure size 432x288 with 1 Axes>"
      ]
     },
     "metadata": {
      "needs_background": "light"
     },
     "output_type": "display_data"
    }
   ],
   "source": [
    "#rxWeightedPhyRate in histogram\n",
    "new_df.hist('rxWeightedPhyRate',bins=10,color=\"red\")"
   ]
  },
  {
   "cell_type": "code",
   "execution_count": 45,
   "metadata": {},
   "outputs": [
    {
     "data": {
      "text/plain": [
       "array([[<matplotlib.axes._subplots.AxesSubplot object at 0x7ff26bf9e940>]],\n",
       "      dtype=object)"
      ]
     },
     "execution_count": 45,
     "metadata": {},
     "output_type": "execute_result"
    },
    {
     "data": {
      "image/png": "[encoded data removed]",
      "text/plain": [
       "<Figure size 432x288 with 1 Axes>"
      ]
     },
     "metadata": {
      "needs_background": "light"
     },
     "output_type": "display_data"
    }
   ],
   "source": [
    "#txWeightedPhyRate in histogram\n",
    "new_df.hist('txWeightedPhyRate',bins=10,color=\"red\")"
   ]
  },
  {
   "cell_type": "code",
   "execution_count": 19,
   "metadata": {},
   "outputs": [],
   "source": [
    "# Data export to csv \n",
    "new_df.to_csv(\"data_for_ingestion.csv\")"
   ]
  },
  {
   "cell_type": "markdown",
   "metadata": {},
   "source": [
    "# --------------------------PROBLEM STATEMENT 2 -----------------------------------------------"
   ]
  },
  {
   "cell_type": "code",
   "execution_count": 20,
   "metadata": {},
   "outputs": [],
   "source": [
    "#Data sample 2\n",
    "df = sqlContext.read.format(\"csv\").option(\"header\",\"true\").load('client_stats_sample_0225part2.csv')"
   ]
  },
  {
   "cell_type": "code",
   "execution_count": 21,
   "metadata": {},
   "outputs": [
    {
     "data": {
      "text/plain": [
       "350596"
      ]
     },
     "execution_count": 21,
     "metadata": {},
     "output_type": "execute_result"
    }
   ],
   "source": [
    "# how many rows are there in dataset\n",
    "df.count()"
   ]
  },
  {
   "cell_type": "code",
   "execution_count": 22,
   "metadata": {},
   "outputs": [
    {
     "name": "stdout",
     "output_type": "stream",
     "text": [
      "root\n",
      " |-- _c0: string (nullable = true)\n",
      " |-- location_id: string (nullable = true)\n",
      " |-- client_mac: string (nullable = true)\n",
      " |-- freq_band: string (nullable = true)\n",
      " |-- mac_address: string (nullable = true)\n",
      " |-- country: string (nullable = true)\n",
      " |-- vendor_name: string (nullable = true)\n",
      " |-- rssi_percs_25: string (nullable = true)\n",
      " |-- rssi_percs_75: string (nullable = true)\n",
      " |-- isp: string (nullable = true)\n",
      " |-- total_bytes_tx: string (nullable = true)\n",
      " |-- total_bytes_rx: string (nullable = true)\n",
      " |-- ts: string (nullable = true)\n",
      " |-- txWeightedPhyRate: string (nullable = true)\n",
      " |-- rxWeightedPhyRate: string (nullable = true)\n",
      " |-- idtype: string (nullable = true)\n",
      " |-- is_static: string (nullable = true)\n",
      " |-- weighted_prr_tx: string (nullable = true)\n",
      " |-- weighted_prr_rx: string (nullable = true)\n",
      " |-- num_samples: string (nullable = true)\n",
      " |-- is_connected_to_pod: string (nullable = true)\n",
      " |-- pod_serial: string (nullable = true)\n",
      " |-- control_group: string (nullable = true)\n",
      " |-- bandCap2G: string (nullable = true)\n",
      " |-- bandCap5G: string (nullable = true)\n",
      " |-- maxMcs: string (nullable = true)\n",
      " |-- maxNss: string (nullable = true)\n",
      " |-- maxChWidth: string (nullable = true)\n",
      " |-- phyMode: string (nullable = true)\n",
      " |-- isBTMSupported: string (nullable = true)\n",
      "\n"
     ]
    }
   ],
   "source": [
    "# What is the schema of dataframe\n",
    "df.printSchema()"
   ]
  },
  {
   "cell_type": "code",
   "execution_count": 23,
   "metadata": {},
   "outputs": [
    {
     "name": "stdout",
     "output_type": "stream",
     "text": [
      "+--------------------+--------------------+---------+-------------+\n",
      "|         mac_address|          client_mac|freq_band|rssi_percs_25|\n",
      "+--------------------+--------------------+---------+-------------+\n",
      "|5b969ea8efcc5d3e1...|81294f9c314119e79...|       5G|        -62.0|\n",
      "|9cd4189fefcd878d5...|c544851fa0c7d8450...|       5G|        -37.0|\n",
      "|9cd4189fefcd878d5...|c544851fa0c7d8450...|       5G|        -37.0|\n",
      "|9cd4189fefcd878d5...|c544851fa0c7d8450...|       5G|        -37.0|\n",
      "|9cd4189fefcd878d5...|c544851fa0c7d8450...|       5G|        -37.0|\n",
      "|c6ecd62a6319f6790...|412adb9ac900c7125...|     2.4G|        -61.0|\n",
      "|c6ecd62a6319f6790...|412adb9ac900c7125...|     2.4G|        -61.0|\n",
      "|c6ecd62a6319f6790...|412adb9ac900c7125...|     2.4G|        -61.0|\n",
      "|c6ecd62a6319f6790...|412adb9ac900c7125...|     2.4G|        -61.0|\n",
      "|c897d58e4c62b048d...|5d3fb54faf8938363...|       5G|        -38.0|\n",
      "|c897d58e4c62b048d...|5d3fb54faf8938363...|       5G|        -38.0|\n",
      "|c897d58e4c62b048d...|5d3fb54faf8938363...|       5G|        -38.0|\n",
      "|c897d58e4c62b048d...|5d3fb54faf8938363...|       5G|        -38.0|\n",
      "|a7cb3da23191f1170...|a0b7a99b6ab999ba3...|       5G|        -57.0|\n",
      "|a7cb3da23191f1170...|a0b7a99b6ab999ba3...|       5G|        -53.0|\n",
      "|a7cb3da23191f1170...|a0b7a99b6ab999ba3...|       5G|        -58.0|\n",
      "|a7cb3da23191f1170...|a0b7a99b6ab999ba3...|       5G|        -53.0|\n",
      "|a7cb3da23191f1170...|a84c55c3626272281...|     2.4G|        -73.0|\n",
      "|7bb63b62e90746995...|bd09ae1155b9e092c...|       5G|        -25.0|\n",
      "|7bb63b62e90746995...|bd09ae1155b9e092c...|       5G|        -25.0|\n",
      "+--------------------+--------------------+---------+-------------+\n",
      "only showing top 20 rows\n",
      "\n"
     ]
    }
   ],
   "source": [
    "### Select features of interest for analysis as descbied in problem\n",
    "df_main = df.select(\"mac_address\", \"client_mac\",\"freq_band\",\"rssi_percs_25\")\n",
    "df_main.show()"
   ]
  },
  {
   "cell_type": "code",
   "execution_count": 24,
   "metadata": {},
   "outputs": [
    {
     "name": "stdout",
     "output_type": "stream",
     "text": [
      "+--------------------+----+---+\n",
      "|client_mac_freq_band|2.4G| 5G|\n",
      "+--------------------+----+---+\n",
      "|6c108075386b9bac5...|   0| 13|\n",
      "|926b265569cc677b8...|  52|  0|\n",
      "|64aaa39a634c845c3...|   4|  0|\n",
      "|e85310fe4c4d96b7a...|   0| 48|\n",
      "|9694df765bee22177...|   4| 35|\n",
      "|c92150b6204bb09a1...|   0| 48|\n",
      "|991f0219bf779f92c...|   0| 48|\n",
      "|49e4a625381b85b59...|  44|  0|\n",
      "|770bf9fd4898249c9...|  48|  0|\n",
      "|c5cb976ee8161e4e9...|   0| 12|\n",
      "|7644580503a3cf67f...|  48|  0|\n",
      "|03c829e8ae46efe67...|  52|  0|\n",
      "|20c423411d4752114...|   0| 44|\n",
      "|bebf74bee765ed470...|  48|  0|\n",
      "|15b102383f5ab6ac0...|   0| 48|\n",
      "|1151b29fa53a37304...|   9| 43|\n",
      "|468d4950090d9606c...|   0| 52|\n",
      "|40cd4df24ef98b291...|   0| 48|\n",
      "|3cced5d8859dea268...|   1|  7|\n",
      "|ae933e3bbd46c58cc...|   0| 19|\n",
      "+--------------------+----+---+\n",
      "only showing top 20 rows\n",
      "\n"
     ]
    }
   ],
   "source": [
    "#Frequencies in client mac \n",
    "df.stat.crosstab(\"client_mac\", \"freq_band\").show()"
   ]
  },
  {
   "cell_type": "markdown",
   "metadata": {},
   "source": [
    "# Total Count"
   ]
  },
  {
   "cell_type": "code",
   "execution_count": 68,
   "metadata": {},
   "outputs": [
    {
     "name": "stdout",
     "output_type": "stream",
     "text": [
      "Percetage of devices in 2.4G 0.45612043491654214\n"
     ]
    }
   ],
   "source": [
    "## Devices per freq_band \n",
    "value_24g = df_main.filter(col(\"freq_band\")=='2.4G').groupBy(\"freq_band\").count()\n",
    "# percetage of the 2.4G device in complete dataset\n",
    "pct_24g = value_24g.select('count').first()[0]/df_main.count()\n",
    "print(\"Percetage of devices in 2.4G\", pct_24g)"
   ]
  },
  {
   "cell_type": "code",
   "execution_count": 69,
   "metadata": {},
   "outputs": [
    {
     "name": "stdout",
     "output_type": "stream",
     "text": [
      "Percetage of devices in 5G 0.5438795650834579\n"
     ]
    }
   ],
   "source": [
    "## Devices per freq_band \n",
    "value_5g = df_main.filter(col(\"freq_band\")=='5G').groupBy(\"freq_band\").count()\n",
    "\n",
    "# percetage of the 5G device in complete dataset\n",
    "pct_5g = value_5g.select('count').first()[0]/df_main.count()\n",
    "print(\"Percetage of devices in 5G\", pct_5g)"
   ]
  },
  {
   "cell_type": "markdown",
   "metadata": {},
   "source": [
    "# unique value count"
   ]
  },
  {
   "cell_type": "code",
   "execution_count": 70,
   "metadata": {},
   "outputs": [],
   "source": [
    "#Devices per freq band\n",
    "value_24g = df_main.filter(col(\"freq_band\")=='2.4G').groupBy(\"freq_band\").agg(func.countDistinct('client_mac'))\n",
    "\n"
   ]
  },
  {
   "cell_type": "code",
   "execution_count": 71,
   "metadata": {},
   "outputs": [
    {
     "name": "stdout",
     "output_type": "stream",
     "text": [
      "Percetage of devices in 2.4G 0.01700532806991523\n"
     ]
    }
   ],
   "source": [
    "# percetage of the 2.4G device \n",
    "pct_24g = value_24g.select('count(DISTINCT client_mac)').first()[0]/df_main.count()\n",
    "print(\"Percetage of devices in 2.4G\", pct_24g) "
   ]
  },
  {
   "cell_type": "code",
   "execution_count": 72,
   "metadata": {},
   "outputs": [
    {
     "name": "stdout",
     "output_type": "stream",
     "text": [
      "Percetage of devices in 5G 0.01734189779689443\n"
     ]
    }
   ],
   "source": [
    "#Devices per freq band\n",
    "value_5g = df_main.filter(col(\"freq_band\")=='5G').groupBy(\"freq_band\").agg(func.countDistinct('client_mac'))\n",
    "\n",
    "# percetage of the 2.4G device \n",
    "pct_5g = value_5g.select('count(DISTINCT client_mac)').first()[0]/df_main.count()\n",
    "print(\"Percetage of devices in 5G\", pct_5g) "
   ]
  },
  {
   "cell_type": "markdown",
   "metadata": {},
   "source": [
    "# #Implement the  condition for the freq_band"
   ]
  },
  {
   "cell_type": "code",
   "execution_count": 32,
   "metadata": {},
   "outputs": [
    {
     "data": {
      "text/plain": [
       "{'mac_address': 0, 'client_mac': 0, 'freq_band': 0, 'rssi_percs_25': 305}"
      ]
     },
     "execution_count": 32,
     "metadata": {},
     "output_type": "execute_result"
    }
   ],
   "source": [
    "#Checking null values\n",
    "null_value_counts = {i:df_main.filter(df[i].isNull()).count() for i in df_main.columns}\n",
    "null_value_counts"
   ]
  },
  {
   "cell_type": "code",
   "execution_count": 33,
   "metadata": {},
   "outputs": [],
   "source": [
    "from pyspark.sql.functions import count, col, when\n",
    "# calculate the values and assigned to new columns\n",
    "final_df = df_main.\\\n",
    "        withColumn(\"new_freq_band\", when((col(\"rssi_percs_25\") >= -60 ) & (col(\"freq_band\")=='2.4G'), \"5G\").\\\n",
    "        when((col(\"rssi_percs_25\") <= -75 ) & (col(\"freq_band\")=='5G'), \"2.4G\").\\\n",
    "                   when((col(\"rssi_percs_25\") > -75 ) & (col(\"freq_band\")=='5G'), \"5G\").\\\n",
    "                   when((col(\"rssi_percs_25\") <= -60 ) & (col(\"freq_band\")=='2.4G'), \"2.4G\").\\\n",
    "                    otherwise(\"ERROR\"))\n",
    "    "
   ]
  },
  {
   "cell_type": "code",
   "execution_count": 34,
   "metadata": {},
   "outputs": [
    {
     "name": "stdout",
     "output_type": "stream",
     "text": [
      "+-------------+------+\n",
      "|new_freq_band| count|\n",
      "+-------------+------+\n",
      "|        ERROR|   305|\n",
      "|         2.4G|105754|\n",
      "|           5G|244537|\n",
      "+-------------+------+\n",
      "\n"
     ]
    }
   ],
   "source": [
    "final_df.groupBy(\"new_freq_band\").count().show()"
   ]
  },
  {
   "cell_type": "code",
   "execution_count": 62,
   "metadata": {},
   "outputs": [
    {
     "name": "stdout",
     "output_type": "stream",
     "text": [
      "+--------------------+--------------------+---------+-------------+-------------+\n",
      "|         mac_address|          client_mac|freq_band|rssi_percs_25|new_freq_band|\n",
      "+--------------------+--------------------+---------+-------------+-------------+\n",
      "|5b969ea8efcc5d3e1...|81294f9c314119e79...|       5G|        -62.0|           5G|\n",
      "|9cd4189fefcd878d5...|c544851fa0c7d8450...|       5G|        -37.0|           5G|\n",
      "|9cd4189fefcd878d5...|c544851fa0c7d8450...|       5G|        -37.0|           5G|\n",
      "|9cd4189fefcd878d5...|c544851fa0c7d8450...|       5G|        -37.0|           5G|\n",
      "|9cd4189fefcd878d5...|c544851fa0c7d8450...|       5G|        -37.0|           5G|\n",
      "|c6ecd62a6319f6790...|412adb9ac900c7125...|     2.4G|        -61.0|         2.4G|\n",
      "|c6ecd62a6319f6790...|412adb9ac900c7125...|     2.4G|        -61.0|         2.4G|\n",
      "|c6ecd62a6319f6790...|412adb9ac900c7125...|     2.4G|        -61.0|         2.4G|\n",
      "|c6ecd62a6319f6790...|412adb9ac900c7125...|     2.4G|        -61.0|         2.4G|\n",
      "|c897d58e4c62b048d...|5d3fb54faf8938363...|       5G|        -38.0|           5G|\n",
      "|c897d58e4c62b048d...|5d3fb54faf8938363...|       5G|        -38.0|           5G|\n",
      "|c897d58e4c62b048d...|5d3fb54faf8938363...|       5G|        -38.0|           5G|\n",
      "|c897d58e4c62b048d...|5d3fb54faf8938363...|       5G|        -38.0|           5G|\n",
      "|a7cb3da23191f1170...|a0b7a99b6ab999ba3...|       5G|        -57.0|           5G|\n",
      "|a7cb3da23191f1170...|a0b7a99b6ab999ba3...|       5G|        -53.0|           5G|\n",
      "|a7cb3da23191f1170...|a0b7a99b6ab999ba3...|       5G|        -58.0|           5G|\n",
      "|a7cb3da23191f1170...|a0b7a99b6ab999ba3...|       5G|        -53.0|           5G|\n",
      "|a7cb3da23191f1170...|a84c55c3626272281...|     2.4G|        -73.0|         2.4G|\n",
      "|7bb63b62e90746995...|bd09ae1155b9e092c...|       5G|        -25.0|           5G|\n",
      "|7bb63b62e90746995...|bd09ae1155b9e092c...|       5G|        -25.0|           5G|\n",
      "+--------------------+--------------------+---------+-------------+-------------+\n",
      "only showing top 20 rows\n",
      "\n"
     ]
    }
   ],
   "source": [
    "final_df.show()"
   ]
  },
  {
   "cell_type": "markdown",
   "metadata": {},
   "source": [
    "# Total count \n"
   ]
  },
  {
   "cell_type": "code",
   "execution_count": 74,
   "metadata": {},
   "outputs": [
    {
     "name": "stdout",
     "output_type": "stream",
     "text": [
      "percentage of the 2.4G device  0.3016406348047325\n"
     ]
    }
   ],
   "source": [
    "## Devices per freq_band\n",
    "new_model_value_24g = final_df.filter(col(\"new_freq_band\")=='2.4G').groupBy(\"new_freq_band\").count()\n",
    "new_model_pct_24g = new_model_value_24g.select('count').first()[0]/final_df.count()\\\n",
    "\n",
    "print(\"percentage of the 2.4G device \", new_model_pct_24g)"
   ]
  },
  {
   "cell_type": "code",
   "execution_count": 76,
   "metadata": {},
   "outputs": [
    {
     "name": "stdout",
     "output_type": "stream",
     "text": [
      "percentage of the 5G device  0.697489418019601\n"
     ]
    }
   ],
   "source": [
    "## Devices per freq_band\n",
    "new_model_value_5g = final_df.filter(col(\"new_freq_band\")=='5G').groupBy(\"new_freq_band\").count()\n",
    "new_model_pct_5g = new_model_value_5g.select('count').first()[0]/final_df.count()\\\n",
    "\n",
    "print(\"percentage of the 5G device \", new_model_pct_5g)"
   ]
  },
  {
   "cell_type": "markdown",
   "metadata": {},
   "source": [
    "# Unique count"
   ]
  },
  {
   "cell_type": "code",
   "execution_count": 73,
   "metadata": {},
   "outputs": [
    {
     "name": "stdout",
     "output_type": "stream",
     "text": [
      "percentage of the 2.4G device  0.013753722232997524\n"
     ]
    }
   ],
   "source": [
    "## Devices per freq_band\n",
    "new_model_value_24g = final_df.filter(col(\"new_freq_band\")=='2.4G').groupBy(\"new_freq_band\").agg(func.countDistinct('client_mac'))\n",
    "\n",
    "new_model_pct_24g = new_model_value_24g.select('count(DISTINCT client_mac)').first()[0]/final_df.count()\n",
    "\n",
    "print(\"percentage of the 2.4G device \", new_model_pct_24g)"
   ]
  },
  {
   "cell_type": "code",
   "execution_count": 80,
   "metadata": {},
   "outputs": [
    {
     "name": "stdout",
     "output_type": "stream",
     "text": [
      "percentage of the 5G device  0.022418966559801023\n"
     ]
    }
   ],
   "source": [
    "## Devices per freq_band\n",
    "new_model_value_5g = final_df.filter(col(\"new_freq_band\")=='5G').groupBy(\"new_freq_band\").agg(func.countDistinct('client_mac'))\n",
    "\n",
    "new_model_pct_5g = new_model_value_5g.select('count(DISTINCT client_mac)').first()[0]/final_df.count()\n",
    "\n",
    "print(\"percentage of the 5G device \", new_model_pct_5g)"
   ]
  },
  {
   "cell_type": "code",
   "execution_count": null,
   "metadata": {},
   "outputs": [],
   "source": []
  }
 ],
 "metadata": {
  "kernelspec": {
   "display_name": "Python 3",
   "language": "python",
   "name": "python3"
  },
  "language_info": {
   "codemirror_mode": {
    "name": "ipython",
    "version": 3
   },
   "file_extension": ".py",
   "mimetype": "text/x-python",
   "name": "python",
   "nbconvert_exporter": "python",
   "pygments_lexer": "ipython3",
   "version": "3.7.3"
  }
 },
 "nbformat": 4,
 "nbformat_minor": 2
}
